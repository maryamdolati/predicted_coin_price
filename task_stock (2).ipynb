{
  "nbformat": 4,
  "nbformat_minor": 0,
  "metadata": {
    "colab": {
      "provenance": []
    },
    "kernelspec": {
      "name": "python3",
      "display_name": "Python 3"
    },
    "language_info": {
      "name": "python"
    }
  },
  "cells": [
    {
      "cell_type": "code",
      "execution_count": null,
      "metadata": {
        "colab": {
          "base_uri": "https://localhost:8080/"
        },
        "id": "tjn_k8WYfg80",
        "outputId": "f72e8073-aeea-4dcb-fc18-2dba1b94872b"
      },
      "outputs": [
        {
          "output_type": "stream",
          "name": "stdout",
          "text": [
            "Looking in indexes: https://pypi.org/simple, https://us-python.pkg.dev/colab-wheels/public/simple/\n",
            "Requirement already satisfied: persiantools in /usr/local/lib/python3.9/dist-packages (3.0.1)\n",
            "Looking in indexes: https://pypi.org/simple, https://us-python.pkg.dev/colab-wheels/public/simple/\n",
            "Requirement already satisfied: jdatetime in /usr/local/lib/python3.9/dist-packages (4.1.1)\n",
            "Looking in indexes: https://pypi.org/simple, https://us-python.pkg.dev/colab-wheels/public/simple/\n",
            "Requirement already satisfied: persiantools in /usr/local/lib/python3.9/dist-packages (3.0.1)\n",
            "Looking in indexes: https://pypi.org/simple, https://us-python.pkg.dev/colab-wheels/public/simple/\n",
            "Requirement already satisfied: jdatetime in /usr/local/lib/python3.9/dist-packages (4.1.1)\n"
          ]
        }
      ],
      "source": [
        "!pip install persiantools\n",
        "!pip install jdatetime"
      ]
    },
    {
      "cell_type": "code",
      "source": [
        "from google.colab import drive\n",
        "drive.mount('/content/drive')\n"
      ],
      "metadata": {
        "id": "OO8eeESqgIVa",
        "colab": {
          "base_uri": "https://localhost:8080/"
        },
        "outputId": "b942a361-e0e0-4c83-eda3-fb4729e9df07"
      },
      "execution_count": null,
      "outputs": [
        {
          "output_type": "stream",
          "name": "stdout",
          "text": [
            "Mounted at /content/drive\n"
          ]
        }
      ]
    },
    {
      "cell_type": "code",
      "source": [
        "import pandas as pd\n",
        "\n",
        "# خواندن دیتاست\n",
        "df = pd.read_excel('/content/drive/MyDrive/data1.xlsx')"
      ],
      "metadata": {
        "id": "Lr9FvCQEUugZ"
      },
      "execution_count": null,
      "outputs": []
    },
    {
      "cell_type": "code",
      "source": [
        "# تغییر نام ستون‌ها\n",
        "df.rename(columns={'Unnamed: 5': 'month'}, inplace=True)"
      ],
      "metadata": {
        "id": "-4k1u-qkgjnW"
      },
      "execution_count": null,
      "outputs": []
    },
    {
      "cell_type": "code",
      "source": [
        "# حذف ستون‌های ۷، ۸ و ۹\n",
        "df.drop(['Unnamed: 7', 'Unnamed: 8', 'Unnamed: 9'], axis=1, inplace=True)"
      ],
      "metadata": {
        "id": "ATpqluArgy3i"
      },
      "execution_count": null,
      "outputs": []
    },
    {
      "cell_type": "code",
      "source": [
        "df.head()"
      ],
      "metadata": {
        "colab": {
          "base_uri": "https://localhost:8080/",
          "height": 206
        },
        "id": "_Qu5D4-ug1d8",
        "outputId": "4cbf7cef-eab9-455c-e5d4-16924e90fd63"
      },
      "execution_count": null,
      "outputs": [
        {
          "output_type": "execute_result",
          "data": {
            "text/plain": [
              "     year   index        inf      ex          g             month   coin\n",
              "0  1370.0   472.1  20.000000  1420.2  12.293367  سال 1370 فروردین  128.2\n",
              "1  1371.0   435.1  25.000000  1498.0   3.064414          اردیبهشت  123.7\n",
              "2  1372.0   403.5  20.000000  1806.0   1.355646             خرداد  121.6\n",
              "3  1373.0   694.4  38.888889  2635.0  -0.921388               تیر  123.5\n",
              "4  1374.0  1549.4  48.000000  4036.0   2.684703             مرداد  120.9"
            ],
            "text/html": [
              "\n",
              "  <div id=\"df-3aa50295-1414-4940-b216-b8a3c03953da\">\n",
              "    <div class=\"colab-df-container\">\n",
              "      <div>\n",
              "<style scoped>\n",
              "    .dataframe tbody tr th:only-of-type {\n",
              "        vertical-align: middle;\n",
              "    }\n",
              "\n",
              "    .dataframe tbody tr th {\n",
              "        vertical-align: top;\n",
              "    }\n",
              "\n",
              "    .dataframe thead th {\n",
              "        text-align: right;\n",
              "    }\n",
              "</style>\n",
              "<table border=\"1\" class=\"dataframe\">\n",
              "  <thead>\n",
              "    <tr style=\"text-align: right;\">\n",
              "      <th></th>\n",
              "      <th>year</th>\n",
              "      <th>index</th>\n",
              "      <th>inf</th>\n",
              "      <th>ex</th>\n",
              "      <th>g</th>\n",
              "      <th>month</th>\n",
              "      <th>coin</th>\n",
              "    </tr>\n",
              "  </thead>\n",
              "  <tbody>\n",
              "    <tr>\n",
              "      <th>0</th>\n",
              "      <td>1370.0</td>\n",
              "      <td>472.1</td>\n",
              "      <td>20.000000</td>\n",
              "      <td>1420.2</td>\n",
              "      <td>12.293367</td>\n",
              "      <td>سال 1370 فروردین</td>\n",
              "      <td>128.2</td>\n",
              "    </tr>\n",
              "    <tr>\n",
              "      <th>1</th>\n",
              "      <td>1371.0</td>\n",
              "      <td>435.1</td>\n",
              "      <td>25.000000</td>\n",
              "      <td>1498.0</td>\n",
              "      <td>3.064414</td>\n",
              "      <td>اردیبهشت</td>\n",
              "      <td>123.7</td>\n",
              "    </tr>\n",
              "    <tr>\n",
              "      <th>2</th>\n",
              "      <td>1372.0</td>\n",
              "      <td>403.5</td>\n",
              "      <td>20.000000</td>\n",
              "      <td>1806.0</td>\n",
              "      <td>1.355646</td>\n",
              "      <td>خرداد</td>\n",
              "      <td>121.6</td>\n",
              "    </tr>\n",
              "    <tr>\n",
              "      <th>3</th>\n",
              "      <td>1373.0</td>\n",
              "      <td>694.4</td>\n",
              "      <td>38.888889</td>\n",
              "      <td>2635.0</td>\n",
              "      <td>-0.921388</td>\n",
              "      <td>تیر</td>\n",
              "      <td>123.5</td>\n",
              "    </tr>\n",
              "    <tr>\n",
              "      <th>4</th>\n",
              "      <td>1374.0</td>\n",
              "      <td>1549.4</td>\n",
              "      <td>48.000000</td>\n",
              "      <td>4036.0</td>\n",
              "      <td>2.684703</td>\n",
              "      <td>مرداد</td>\n",
              "      <td>120.9</td>\n",
              "    </tr>\n",
              "  </tbody>\n",
              "</table>\n",
              "</div>\n",
              "      <button class=\"colab-df-convert\" onclick=\"convertToInteractive('df-3aa50295-1414-4940-b216-b8a3c03953da')\"\n",
              "              title=\"Convert this dataframe to an interactive table.\"\n",
              "              style=\"display:none;\">\n",
              "        \n",
              "  <svg xmlns=\"http://www.w3.org/2000/svg\" height=\"24px\"viewBox=\"0 0 24 24\"\n",
              "       width=\"24px\">\n",
              "    <path d=\"M0 0h24v24H0V0z\" fill=\"none\"/>\n",
              "    <path d=\"M18.56 5.44l.94 2.06.94-2.06 2.06-.94-2.06-.94-.94-2.06-.94 2.06-2.06.94zm-11 1L8.5 8.5l.94-2.06 2.06-.94-2.06-.94L8.5 2.5l-.94 2.06-2.06.94zm10 10l.94 2.06.94-2.06 2.06-.94-2.06-.94-.94-2.06-.94 2.06-2.06.94z\"/><path d=\"M17.41 7.96l-1.37-1.37c-.4-.4-.92-.59-1.43-.59-.52 0-1.04.2-1.43.59L10.3 9.45l-7.72 7.72c-.78.78-.78 2.05 0 2.83L4 21.41c.39.39.9.59 1.41.59.51 0 1.02-.2 1.41-.59l7.78-7.78 2.81-2.81c.8-.78.8-2.07 0-2.86zM5.41 20L4 18.59l7.72-7.72 1.47 1.35L5.41 20z\"/>\n",
              "  </svg>\n",
              "      </button>\n",
              "      \n",
              "  <style>\n",
              "    .colab-df-container {\n",
              "      display:flex;\n",
              "      flex-wrap:wrap;\n",
              "      gap: 12px;\n",
              "    }\n",
              "\n",
              "    .colab-df-convert {\n",
              "      background-color: #E8F0FE;\n",
              "      border: none;\n",
              "      border-radius: 50%;\n",
              "      cursor: pointer;\n",
              "      display: none;\n",
              "      fill: #1967D2;\n",
              "      height: 32px;\n",
              "      padding: 0 0 0 0;\n",
              "      width: 32px;\n",
              "    }\n",
              "\n",
              "    .colab-df-convert:hover {\n",
              "      background-color: #E2EBFA;\n",
              "      box-shadow: 0px 1px 2px rgba(60, 64, 67, 0.3), 0px 1px 3px 1px rgba(60, 64, 67, 0.15);\n",
              "      fill: #174EA6;\n",
              "    }\n",
              "\n",
              "    [theme=dark] .colab-df-convert {\n",
              "      background-color: #3B4455;\n",
              "      fill: #D2E3FC;\n",
              "    }\n",
              "\n",
              "    [theme=dark] .colab-df-convert:hover {\n",
              "      background-color: #434B5C;\n",
              "      box-shadow: 0px 1px 3px 1px rgba(0, 0, 0, 0.15);\n",
              "      filter: drop-shadow(0px 1px 2px rgba(0, 0, 0, 0.3));\n",
              "      fill: #FFFFFF;\n",
              "    }\n",
              "  </style>\n",
              "\n",
              "      <script>\n",
              "        const buttonEl =\n",
              "          document.querySelector('#df-3aa50295-1414-4940-b216-b8a3c03953da button.colab-df-convert');\n",
              "        buttonEl.style.display =\n",
              "          google.colab.kernel.accessAllowed ? 'block' : 'none';\n",
              "\n",
              "        async function convertToInteractive(key) {\n",
              "          const element = document.querySelector('#df-3aa50295-1414-4940-b216-b8a3c03953da');\n",
              "          const dataTable =\n",
              "            await google.colab.kernel.invokeFunction('convertToInteractive',\n",
              "                                                     [key], {});\n",
              "          if (!dataTable) return;\n",
              "\n",
              "          const docLinkHtml = 'Like what you see? Visit the ' +\n",
              "            '<a target=\"_blank\" href=https://colab.research.google.com/notebooks/data_table.ipynb>data table notebook</a>'\n",
              "            + ' to learn more about interactive tables.';\n",
              "          element.innerHTML = '';\n",
              "          dataTable['output_type'] = 'display_data';\n",
              "          await google.colab.output.renderOutput(dataTable, element);\n",
              "          const docLink = document.createElement('div');\n",
              "          docLink.innerHTML = docLinkHtml;\n",
              "          element.appendChild(docLink);\n",
              "        }\n",
              "      </script>\n",
              "    </div>\n",
              "  </div>\n",
              "  "
            ]
          },
          "metadata": {},
          "execution_count": 9
        }
      ]
    },
    {
      "cell_type": "code",
      "source": [
        "df.info()"
      ],
      "metadata": {
        "colab": {
          "base_uri": "https://localhost:8080/"
        },
        "id": "eb7zcOjrg3qR",
        "outputId": "2ef03302-9b98-47a2-d221-e7088ce50dae"
      },
      "execution_count": null,
      "outputs": [
        {
          "output_type": "stream",
          "name": "stdout",
          "text": [
            "<class 'pandas.core.frame.DataFrame'>\n",
            "RangeIndex: 372 entries, 0 to 371\n",
            "Data columns (total 7 columns):\n",
            " #   Column  Non-Null Count  Dtype  \n",
            "---  ------  --------------  -----  \n",
            " 0   year    31 non-null     float64\n",
            " 1   index   30 non-null     float64\n",
            " 2   inf     28 non-null     float64\n",
            " 3   ex      29 non-null     float64\n",
            " 4   g       30 non-null     float64\n",
            " 5   month   372 non-null    object \n",
            " 6   coin    372 non-null    float64\n",
            "dtypes: float64(6), object(1)\n",
            "memory usage: 20.5+ KB\n"
          ]
        }
      ]
    },
    {
      "cell_type": "code",
      "source": [
        "df.isna().sum()"
      ],
      "metadata": {
        "colab": {
          "base_uri": "https://localhost:8080/"
        },
        "id": "V71ZvYX1g8B-",
        "outputId": "3f9ea354-74bf-465f-8125-40f907822db9"
      },
      "execution_count": null,
      "outputs": [
        {
          "output_type": "execute_result",
          "data": {
            "text/plain": [
              "year     341\n",
              "index    342\n",
              "inf      344\n",
              "ex       343\n",
              "g        342\n",
              "month      0\n",
              "coin       0\n",
              "dtype: int64"
            ]
          },
          "metadata": {},
          "execution_count": 11
        }
      ]
    },
    {
      "cell_type": "code",
      "source": [
        "def sum_by_twelve(df, column_name):\n",
        "    # Extract the specified column from the data frame\n",
        "    column = df[column_name]\n",
        "    \n",
        "    # Create an empty list to store the sums\n",
        "    sums = []\n",
        "    \n",
        "    # Loop through the column in increments of 12 rows\n",
        "    for i in range(0, len(column), 12):\n",
        "        # Add up the values in the next 12 rows and append to the list of sums\n",
        "        sums.append(sum(column[i:i+12]))\n",
        "    \n",
        "    return sums"
      ],
      "metadata": {
        "id": "tIHuj8R8l6Y2"
      },
      "execution_count": null,
      "outputs": []
    },
    {
      "cell_type": "code",
      "source": [
        "sum_by_twelve(df, 'coin')"
      ],
      "metadata": {
        "colab": {
          "base_uri": "https://localhost:8080/"
        },
        "id": "ecjnd-1InaIE",
        "outputId": "d0c8d42c-24b5-4d87-8f38-85b7b7ff4d2c"
      },
      "execution_count": null,
      "outputs": [
        {
          "output_type": "execute_result",
          "data": {
            "text/plain": [
              "[1494.7,\n",
              " 1490.8999999999999,\n",
              " 1985.3000000000002,\n",
              " 3671.6000000000004,\n",
              " 5318.7,\n",
              " 4959.3,\n",
              " 4664.8,\n",
              " 5416.300000000001,\n",
              " 7044.000000000001,\n",
              " 7267.5,\n",
              " 7309.000000000001,\n",
              " 8408.6,\n",
              " 10340.399999999998,\n",
              " 12566.2,\n",
              " 14772.1,\n",
              " 20158.8,\n",
              " 22955.3,\n",
              " 27819.4,\n",
              " 29657.8,\n",
              " 42057.0,\n",
              " 70648.0,\n",
              " 122100.0,\n",
              " 125715.0,\n",
              " 115511.0,\n",
              " 111817.0,\n",
              " 132177.0,\n",
              " 155284.0,\n",
              " 401587.0,\n",
              " 543668.0,\n",
              " 1216314.0,\n",
              " 1372816.0]"
            ]
          },
          "metadata": {},
          "execution_count": 13
        }
      ]
    },
    {
      "cell_type": "code",
      "source": [
        "import numpy as np \n",
        "coin_yearly = np.array(sum_by_twelve(df, 'coin'))\n",
        "coin_yearly = np.concatenate((coin_yearly, np.full(341, np.nan)))\n",
        "\n",
        "df['coin_yearly'] = coin_yearly"
      ],
      "metadata": {
        "id": "pKFO8mHxnb0R"
      },
      "execution_count": null,
      "outputs": []
    },
    {
      "cell_type": "code",
      "source": [
        "df_new = df.drop(['month', 'coin'], axis=1)\n",
        "df_new.head()"
      ],
      "metadata": {
        "colab": {
          "base_uri": "https://localhost:8080/",
          "height": 206
        },
        "id": "1F_Gx3Ivbj5b",
        "outputId": "9f2fddda-9ab4-4e87-b3ca-99b86c7721bc"
      },
      "execution_count": null,
      "outputs": [
        {
          "output_type": "execute_result",
          "data": {
            "text/plain": [
              "     year   index        inf      ex          g  coin_yearly\n",
              "0  1370.0   472.1  20.000000  1420.2  12.293367       1494.7\n",
              "1  1371.0   435.1  25.000000  1498.0   3.064414       1490.9\n",
              "2  1372.0   403.5  20.000000  1806.0   1.355646       1985.3\n",
              "3  1373.0   694.4  38.888889  2635.0  -0.921388       3671.6\n",
              "4  1374.0  1549.4  48.000000  4036.0   2.684703       5318.7"
            ],
            "text/html": [
              "\n",
              "  <div id=\"df-9f8ff55d-0a9f-43c7-9a72-6e41bf7504f3\">\n",
              "    <div class=\"colab-df-container\">\n",
              "      <div>\n",
              "<style scoped>\n",
              "    .dataframe tbody tr th:only-of-type {\n",
              "        vertical-align: middle;\n",
              "    }\n",
              "\n",
              "    .dataframe tbody tr th {\n",
              "        vertical-align: top;\n",
              "    }\n",
              "\n",
              "    .dataframe thead th {\n",
              "        text-align: right;\n",
              "    }\n",
              "</style>\n",
              "<table border=\"1\" class=\"dataframe\">\n",
              "  <thead>\n",
              "    <tr style=\"text-align: right;\">\n",
              "      <th></th>\n",
              "      <th>year</th>\n",
              "      <th>index</th>\n",
              "      <th>inf</th>\n",
              "      <th>ex</th>\n",
              "      <th>g</th>\n",
              "      <th>coin_yearly</th>\n",
              "    </tr>\n",
              "  </thead>\n",
              "  <tbody>\n",
              "    <tr>\n",
              "      <th>0</th>\n",
              "      <td>1370.0</td>\n",
              "      <td>472.1</td>\n",
              "      <td>20.000000</td>\n",
              "      <td>1420.2</td>\n",
              "      <td>12.293367</td>\n",
              "      <td>1494.7</td>\n",
              "    </tr>\n",
              "    <tr>\n",
              "      <th>1</th>\n",
              "      <td>1371.0</td>\n",
              "      <td>435.1</td>\n",
              "      <td>25.000000</td>\n",
              "      <td>1498.0</td>\n",
              "      <td>3.064414</td>\n",
              "      <td>1490.9</td>\n",
              "    </tr>\n",
              "    <tr>\n",
              "      <th>2</th>\n",
              "      <td>1372.0</td>\n",
              "      <td>403.5</td>\n",
              "      <td>20.000000</td>\n",
              "      <td>1806.0</td>\n",
              "      <td>1.355646</td>\n",
              "      <td>1985.3</td>\n",
              "    </tr>\n",
              "    <tr>\n",
              "      <th>3</th>\n",
              "      <td>1373.0</td>\n",
              "      <td>694.4</td>\n",
              "      <td>38.888889</td>\n",
              "      <td>2635.0</td>\n",
              "      <td>-0.921388</td>\n",
              "      <td>3671.6</td>\n",
              "    </tr>\n",
              "    <tr>\n",
              "      <th>4</th>\n",
              "      <td>1374.0</td>\n",
              "      <td>1549.4</td>\n",
              "      <td>48.000000</td>\n",
              "      <td>4036.0</td>\n",
              "      <td>2.684703</td>\n",
              "      <td>5318.7</td>\n",
              "    </tr>\n",
              "  </tbody>\n",
              "</table>\n",
              "</div>\n",
              "      <button class=\"colab-df-convert\" onclick=\"convertToInteractive('df-9f8ff55d-0a9f-43c7-9a72-6e41bf7504f3')\"\n",
              "              title=\"Convert this dataframe to an interactive table.\"\n",
              "              style=\"display:none;\">\n",
              "        \n",
              "  <svg xmlns=\"http://www.w3.org/2000/svg\" height=\"24px\"viewBox=\"0 0 24 24\"\n",
              "       width=\"24px\">\n",
              "    <path d=\"M0 0h24v24H0V0z\" fill=\"none\"/>\n",
              "    <path d=\"M18.56 5.44l.94 2.06.94-2.06 2.06-.94-2.06-.94-.94-2.06-.94 2.06-2.06.94zm-11 1L8.5 8.5l.94-2.06 2.06-.94-2.06-.94L8.5 2.5l-.94 2.06-2.06.94zm10 10l.94 2.06.94-2.06 2.06-.94-2.06-.94-.94-2.06-.94 2.06-2.06.94z\"/><path d=\"M17.41 7.96l-1.37-1.37c-.4-.4-.92-.59-1.43-.59-.52 0-1.04.2-1.43.59L10.3 9.45l-7.72 7.72c-.78.78-.78 2.05 0 2.83L4 21.41c.39.39.9.59 1.41.59.51 0 1.02-.2 1.41-.59l7.78-7.78 2.81-2.81c.8-.78.8-2.07 0-2.86zM5.41 20L4 18.59l7.72-7.72 1.47 1.35L5.41 20z\"/>\n",
              "  </svg>\n",
              "      </button>\n",
              "      \n",
              "  <style>\n",
              "    .colab-df-container {\n",
              "      display:flex;\n",
              "      flex-wrap:wrap;\n",
              "      gap: 12px;\n",
              "    }\n",
              "\n",
              "    .colab-df-convert {\n",
              "      background-color: #E8F0FE;\n",
              "      border: none;\n",
              "      border-radius: 50%;\n",
              "      cursor: pointer;\n",
              "      display: none;\n",
              "      fill: #1967D2;\n",
              "      height: 32px;\n",
              "      padding: 0 0 0 0;\n",
              "      width: 32px;\n",
              "    }\n",
              "\n",
              "    .colab-df-convert:hover {\n",
              "      background-color: #E2EBFA;\n",
              "      box-shadow: 0px 1px 2px rgba(60, 64, 67, 0.3), 0px 1px 3px 1px rgba(60, 64, 67, 0.15);\n",
              "      fill: #174EA6;\n",
              "    }\n",
              "\n",
              "    [theme=dark] .colab-df-convert {\n",
              "      background-color: #3B4455;\n",
              "      fill: #D2E3FC;\n",
              "    }\n",
              "\n",
              "    [theme=dark] .colab-df-convert:hover {\n",
              "      background-color: #434B5C;\n",
              "      box-shadow: 0px 1px 3px 1px rgba(0, 0, 0, 0.15);\n",
              "      filter: drop-shadow(0px 1px 2px rgba(0, 0, 0, 0.3));\n",
              "      fill: #FFFFFF;\n",
              "    }\n",
              "  </style>\n",
              "\n",
              "      <script>\n",
              "        const buttonEl =\n",
              "          document.querySelector('#df-9f8ff55d-0a9f-43c7-9a72-6e41bf7504f3 button.colab-df-convert');\n",
              "        buttonEl.style.display =\n",
              "          google.colab.kernel.accessAllowed ? 'block' : 'none';\n",
              "\n",
              "        async function convertToInteractive(key) {\n",
              "          const element = document.querySelector('#df-9f8ff55d-0a9f-43c7-9a72-6e41bf7504f3');\n",
              "          const dataTable =\n",
              "            await google.colab.kernel.invokeFunction('convertToInteractive',\n",
              "                                                     [key], {});\n",
              "          if (!dataTable) return;\n",
              "\n",
              "          const docLinkHtml = 'Like what you see? Visit the ' +\n",
              "            '<a target=\"_blank\" href=https://colab.research.google.com/notebooks/data_table.ipynb>data table notebook</a>'\n",
              "            + ' to learn more about interactive tables.';\n",
              "          element.innerHTML = '';\n",
              "          dataTable['output_type'] = 'display_data';\n",
              "          await google.colab.output.renderOutput(dataTable, element);\n",
              "          const docLink = document.createElement('div');\n",
              "          docLink.innerHTML = docLinkHtml;\n",
              "          element.appendChild(docLink);\n",
              "        }\n",
              "      </script>\n",
              "    </div>\n",
              "  </div>\n",
              "  "
            ]
          },
          "metadata": {},
          "execution_count": 15
        }
      ]
    },
    {
      "cell_type": "markdown",
      "source": [
        "شناسایی تاثیر هر متغیر بر شاخص بورس"
      ],
      "metadata": {
        "id": "wpeW4xfDwQc5"
      }
    },
    {
      "cell_type": "code",
      "source": [
        "import statsmodels.api as sm\n",
        "df = df.dropna() #NaN یا Inf هستند حذف ردیف‌هایی که شامل \n",
        "\n",
        "X = df[['year', 'inf', 'ex', 'g', 'coin']] # متغیرهای مستقل\n",
        "y = df['index'] # متغیر وابسته\n",
        "\n",
        "# اضافه کردن عبارت \"const\" به متغیرهای مستقل برای به دست آوردن عدد ثابت در مدل\n",
        "X = sm.add_constant(X)\n",
        "\n",
        "# ساخت مدل رگرسیون خطی\n",
        "model = sm.OLS(y, X)\n",
        "\n",
        "# اجرای مدل\n",
        "results = model.fit()\n",
        "\n",
        "# چاپ خلاصه‌ای از نتایج\n",
        "print(results.summary())\n"
      ],
      "metadata": {
        "id": "rL-TFXTvd1T1",
        "colab": {
          "base_uri": "https://localhost:8080/"
        },
        "outputId": "dfc3ccc9-7cf9-4030-b968-6b249413e85f"
      },
      "execution_count": null,
      "outputs": [
        {
          "output_type": "stream",
          "name": "stdout",
          "text": [
            "                            OLS Regression Results                            \n",
            "==============================================================================\n",
            "Dep. Variable:                  index   R-squared:                       0.987\n",
            "Model:                            OLS   Adj. R-squared:                  0.984\n",
            "Method:                 Least Squares   F-statistic:                     289.1\n",
            "Date:                Fri, 07 Apr 2023   Prob (F-statistic):           3.09e-17\n",
            "Time:                        08:03:02   Log-Likelihood:                -301.74\n",
            "No. Observations:                  25   AIC:                             615.5\n",
            "Df Residuals:                      19   BIC:                             622.8\n",
            "Df Model:                           5                                         \n",
            "Covariance Type:            nonrobust                                         \n",
            "==============================================================================\n",
            "                 coef    std err          t      P>|t|      [0.025      0.975]\n",
            "------------------------------------------------------------------------------\n",
            "const       6.863e+06   2.44e+06      2.817      0.011    1.76e+06     1.2e+07\n",
            "year       -4060.6178   1781.458     -2.279      0.034   -7789.253    -331.982\n",
            "inf         -182.4278   1326.778     -0.137      0.892   -2959.406    2594.550\n",
            "ex             7.1462      0.370     19.327      0.000       6.372       7.920\n",
            "g           7167.2947   3292.245      2.177      0.042     276.547    1.41e+04\n",
            "coin       -1.074e+04   2073.766     -5.178      0.000   -1.51e+04   -6397.537\n",
            "==============================================================================\n",
            "Omnibus:                       18.804   Durbin-Watson:                   2.220\n",
            "Prob(Omnibus):                  0.000   Jarque-Bera (JB):               24.719\n",
            "Skew:                          -1.614   Prob(JB):                     4.29e-06\n",
            "Kurtosis:                       6.649   Cond. No.                     1.89e+07\n",
            "==============================================================================\n",
            "\n",
            "Notes:\n",
            "[1] Standard Errors assume that the covariance matrix of the errors is correctly specified.\n",
            "[2] The condition number is large, 1.89e+07. This might indicate that there are\n",
            "strong multicollinearity or other numerical problems.\n"
          ]
        }
      ]
    },
    {
      "cell_type": "markdown",
      "source": [
        "\n",
        "برای ارزیابی عملکرد مدل، می‌توان به مقادیر معیارهای زیر توجه کرد\n",
        "\n",
        "R-squared و Adj. R-squared \n",
        "\n",
        " R-squared  مقدار  \n",
        "برابر با 0.987 است، که نشان دهنده این است که 98.7% از تغییرات شاخص بورس توسط متغیرهای مستقل در مدل توضیح داده شده است \n",
        "  \n",
        "Adj. R-squared مقدار\n",
        " \n",
        "  نیز با 0.984 نشان می‌دهد که مدل در برخورد با داده‌های جدید همچنان دقت خوبی \n",
        "  دارد\n",
        "\n",
        ".\n",
        ".\n",
        "\n",
        "معیارهای دیگری همچون   F-statistic و Prob (F-statistic) \n",
        " نیز برای ارزیابی عملکرد مدل مفید هستند. \n",
        "\n",
        "مقدار F-statistic \n",
        "برابر با 289.1 است که نشان دهنده عدم اتفاق تصادفی میان متغیرهای مستقل و وابسته است \n",
        ".\n",
        ".\n",
        "\n",
        "Prob (F-statistic) \n",
        "نیز با مقدار کمتر از 0.05 نشان می‌دهد که مدل در کل دارای عملکرد مطلوبی برای پیش‌بینی مقدار شاخص بورس است\n",
        "\n"
      ],
      "metadata": {
        "id": "IEvp8henyAXf"
      }
    },
    {
      "cell_type": "code",
      "source": [
        "import pandas as pd\n",
        "from sklearn.linear_model import LinearRegression\n",
        "\n",
        "\n",
        "inf = 40\n",
        "ex = 300000\n",
        "g = 3\n",
        "coin = 130500\n",
        "\n",
        "data = {\n",
        "    'inf': [inf],\n",
        "    'ex': [ex],\n",
        "    'g': [g],\n",
        "    'coin': [coin]\n",
        "}\n",
        "\n",
        "df = pd.DataFrame(data)\n",
        "\n",
        "X = df.drop('coin', axis=1)\n",
        "y = df['coin']\n",
        "\n",
        "model = LinearRegression().fit(X, y)\n",
        "\n",
        "predicted_coin_price = model.predict([[inf, ex, g]])[0]\n",
        "print('پیش‌بینی قیمت سکه: ', predicted_coin_price)\n",
        "\n"
      ],
      "metadata": {
        "colab": {
          "base_uri": "https://localhost:8080/"
        },
        "id": "F1lBOWo4bbOA",
        "outputId": "c6d56275-2d14-4131-f8fa-946dca5b7a08"
      },
      "execution_count": null,
      "outputs": [
        {
          "output_type": "stream",
          "name": "stdout",
          "text": [
            "پیش‌بینی قیمت سکه:  130500.0\n"
          ]
        },
        {
          "output_type": "stream",
          "name": "stderr",
          "text": [
            "/usr/local/lib/python3.9/dist-packages/sklearn/base.py:439: UserWarning: X does not have valid feature names, but LinearRegression was fitted with feature names\n",
            "  warnings.warn(\n"
          ]
        }
      ]
    },
    {
      "cell_type": "code",
      "source": [
        "import pandas as pd\n",
        "from sklearn.linear_model import LinearRegression\n",
        "from sklearn.model_selection import train_test_split\n",
        "from sklearn.metrics import mean_squared_error, r2_score\n",
        "\n",
        "# خواندن داده‌ها\n",
        "df = pd.read_excel('/content/drive/MyDrive/data1.xlsx')\n",
        "# تغییر نام ستون‌ها\n",
        "df.rename(columns={'Unnamed: 5': 'month'}, inplace=True)\n",
        "# حذف ستون‌های ۷، ۸ و ۹\n",
        "df.drop(['Unnamed: 7', 'Unnamed: 8', 'Unnamed: 9'], axis=1, inplace=True)\n",
        "# حذف ستون‌هایی که برای پیش‌بینی مورد نیاز نیستند\n",
        "df.drop(['year', 'index', 'month'], axis=1, inplace=True)\n",
        "df = df.dropna()\n",
        "# جایگذاری مقادیر خالی با میانگین ستون مربوطه\n",
        "df.fillna(df.mean(), inplace=True)\n",
        "\n",
        "# تقسیم داده‌ها به دو بخش train و test\n",
        "X = df.drop('coin', axis=1)\n",
        "y = df['coin']\n",
        "X_train, X_test, y_train, y_test = train_test_split(X, y, test_size=0.2, random_state=42)\n",
        "\n",
        "# ایجاد مدل و آموزش آن بر روی داده‌های train\n",
        "model = LinearRegression().fit(X_train, y_train)\n",
        "\n",
        "# پیش‌بینی قیمت سکه بر روی داده‌های test\n",
        "y_pred = model.predict(X_test)\n",
        "\n",
        "# محاسبه معیارهای خطای پیش‌بینی\n",
        "mse = mean_squared_error(y_test, y_pred)\n",
        "r2 = r2_score(y_test, y_pred)\n",
        "\n",
        "print(\"MSE:\", mse)\n",
        "print(\"R-squared:\", r2)\n"
      ],
      "metadata": {
        "colab": {
          "base_uri": "https://localhost:8080/"
        },
        "id": "hz0_gOoDnaCO",
        "outputId": "c233dd49-49e5-43bc-e90b-8724da7929c3"
      },
      "execution_count": null,
      "outputs": [
        {
          "output_type": "stream",
          "name": "stdout",
          "text": [
            "MSE: 25.198055131000526\n",
            "R-squared: 0.5842076625386654\n"
          ]
        }
      ]
    },
    {
      "cell_type": "code",
      "source": [
        "import matplotlib.pyplot as plt\n",
        "\n",
        "# ساخت دیتافریم جدید با ستون‌های مورد نظر\n",
        "df_plt = df[['inf']]\n",
        "\n",
        "# نمودار خطی\n",
        "df_plt.plot(kind='line', figsize=(10, 6))\n",
        "\n",
        "# نام داده‌ها در هر ستون\n",
        "plt.legend(loc='upper right')\n",
        "\n",
        "# نام محور افقی\n",
        "plt.xlabel('Index')\n",
        "\n",
        "# نام محور عمودی\n",
        "plt.ylabel('Value')\n",
        "\n",
        "# عنوان نمودار\n",
        "plt.title('Line plot of the data')\n",
        "\n",
        "# نمایش نمودار\n",
        "plt.show()\n",
        "\n"
      ],
      "metadata": {
        "colab": {
          "base_uri": "https://localhost:8080/",
          "height": 564
        },
        "id": "1rgxkWHopEew",
        "outputId": "83394f10-ceaf-4674-db7d-77d55ab75ac3"
      },
      "execution_count": null,
      "outputs": [
        {
          "output_type": "display_data",
          "data": {
            "text/plain": [
              "<Figure size 1000x600 with 1 Axes>"
            ],
            "image/png": "[encoded data removed]"
          },
          "metadata": {}
        }
      ]
    },
    {
      "cell_type": "code",
      "source": [
        "import matplotlib.pyplot as plt\n",
        "\n",
        "# ساخت دیتافریم جدید با ستون‌های مورد نظر\n",
        "df_plt = df[['ex']]\n",
        "\n",
        "# نمودار خطی\n",
        "df_plt.plot(kind='line', figsize=(10, 6))\n",
        "\n",
        "# نام داده‌ها در هر ستون\n",
        "plt.legend(loc='upper right')\n",
        "\n",
        "# نام محور افقی\n",
        "plt.xlabel('Index')\n",
        "\n",
        "# نام محور عمودی\n",
        "plt.ylabel('Value')\n",
        "\n",
        "# عنوان نمودار\n",
        "plt.title('Line plot of the data')\n",
        "\n",
        "# نمایش نمودار\n",
        "plt.show()\n",
        "\n"
      ],
      "metadata": {
        "colab": {
          "base_uri": "https://localhost:8080/",
          "height": 564
        },
        "id": "9IWiPtmFpbuz",
        "outputId": "c4a4ba21-d638-4661-e822-eba9b35c9272"
      },
      "execution_count": null,
      "outputs": [
        {
          "output_type": "display_data",
          "data": {
            "text/plain": [
              "<Figure size 1000x600 with 1 Axes>"
            ],
            "image/png": "[encoded data removed]"
          },
          "metadata": {}
        }
      ]
    },
    {
      "cell_type": "code",
      "source": [
        "import matplotlib.pyplot as plt\n",
        "\n",
        "# ساخت دیتافریم جدید با ستون‌های مورد نظر\n",
        "df_plt = df[['g']]\n",
        "\n",
        "# نمودار خطی\n",
        "df_plt.plot(kind='line', figsize=(10, 6))\n",
        "\n",
        "# نام داده‌ها در هر ستون\n",
        "plt.legend(loc='upper right')\n",
        "\n",
        "# نام محور افقی\n",
        "plt.xlabel('Index')\n",
        "\n",
        "# نام محور عمودی\n",
        "plt.ylabel('Value')\n",
        "\n",
        "# عنوان نمودار\n",
        "plt.title('Line plot of the data')\n",
        "\n",
        "# نمایش نمودار\n",
        "plt.show()\n"
      ],
      "metadata": {
        "colab": {
          "base_uri": "https://localhost:8080/",
          "height": 564
        },
        "id": "iRhJuZmjpl-m",
        "outputId": "27a58c7e-d1be-41cb-c8e7-e8f84a9c44e4"
      },
      "execution_count": null,
      "outputs": [
        {
          "output_type": "display_data",
          "data": {
            "text/plain": [
              "<Figure size 1000x600 with 1 Axes>"
            ],
            "image/png": "[encoded data removed]"
          },
          "metadata": {}
        }
      ]
    },
    {
      "cell_type": "code",
      "source": [
        "import matplotlib.pyplot as plt\n",
        "\n",
        "# ساخت دیتافریم جدید با ستون‌های مورد نظر\n",
        "df_plt = df[['coin']]\n",
        "\n",
        "# نمودار خطی\n",
        "df_plt.plot(kind='line', figsize=(10, 6))\n",
        "\n",
        "# نام داده‌ها در هر ستون\n",
        "plt.legend(loc='upper right')\n",
        "\n",
        "# نام محور افقی\n",
        "plt.xlabel('Index')\n",
        "\n",
        "# نام محور عمودی\n",
        "plt.ylabel('Value')\n",
        "\n",
        "# عنوان نمودار\n",
        "plt.title('Line plot of the data')\n",
        "\n",
        "# نمایش نمودار\n",
        "plt.show()\n"
      ],
      "metadata": {
        "colab": {
          "base_uri": "https://localhost:8080/",
          "height": 564
        },
        "id": "AS5t_KwmrK-F",
        "outputId": "123e306c-7999-4268-8e06-88dceb5faeea"
      },
      "execution_count": null,
      "outputs": [
        {
          "output_type": "display_data",
          "data": {
            "text/plain": [
              "<Figure size 1000x600 with 1 Axes>"
            ],
            "image/png": "[encoded data removed]"
          },
          "metadata": {}
        }
      ]
    },
    {
      "cell_type": "code",
      "source": [
        "corr_matrix = df.corr()\n",
        "corr_matrix.iloc[:, -1].sort_values(ascending=False)\n"
      ],
      "metadata": {
        "colab": {
          "base_uri": "https://localhost:8080/"
        },
        "id": "L8UgvgNvr4fa",
        "outputId": "628a4c09-d0f6-47eb-ee5f-023763f8647e"
      },
      "execution_count": null,
      "outputs": [
        {
          "output_type": "execute_result",
          "data": {
            "text/plain": [
              "coin    1.000000\n",
              "ex      0.828312\n",
              "inf     0.481382\n",
              "g      -0.189393\n",
              "Name: coin, dtype: float64"
            ]
          },
          "metadata": {},
          "execution_count": 23
        }
      ]
    },
    {
      "cell_type": "markdown",
      "source": [
        "\n",
        "با توجه به خروجی کد بالا ex متغییر  \n",
        "یشترین همبستگی با شاخص بورس دارد  (نرخ ارز) \n",
        "\n",
        "متغیر(g) \n",
        " کمترین همبستگی را دارد "
      ],
      "metadata": {
        "id": "B3foBnpxtPzk"
      }
    },
    {
      "cell_type": "code",
      "source": [
        "import pandas as pd\n",
        "corr = df.corr()\n",
        "\n",
        "# ایجاد دیتافریمی با نتایج همبستگی\n",
        "corr_df = pd.DataFrame({'corr_coef': corr['coin']})\n",
        "\n"
      ],
      "metadata": {
        "id": "ioB208i_vK4-"
      },
      "execution_count": null,
      "outputs": []
    },
    {
      "cell_type": "code",
      "source": [
        "\n",
        "# افزودن نام متغیرها به دیتافریم\n",
        "corr_df.index.name = 'variable'\n",
        "corr_df.reset_index(inplace=True)\n",
        "\n",
        "# ذخیره دیتافریم در فایل اکسل\n",
        "corr_df.to_excel('correlation_results.xlsx', index=False)\n"
      ],
      "metadata": {
        "id": "ZFfhn3t6vfA-"
      },
      "execution_count": null,
      "outputs": []
    }
  ]
}